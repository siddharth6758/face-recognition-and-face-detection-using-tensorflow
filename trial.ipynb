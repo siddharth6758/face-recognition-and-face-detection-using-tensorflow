{
 "cells": [
  {
   "cell_type": "code",
   "execution_count": 34,
   "metadata": {},
   "outputs": [],
   "source": [
    "import numpy as np\n",
    "import cv2\n",
    "import tensorflow as tf\n",
    "from tensorflow.keras.models import Sequential\n",
    "from tensorflow.keras.utils import image_dataset_from_directory\n",
    "from tensorflow.keras.layers import Conv2D,MaxPooling2D,Flatten,Dense\n",
    "from tensorflow.keras.metrics import Precision,Recall,BinaryAccuracy\n",
    "import os\n",
    "import time as tm\n",
    "from random import seed,randint"
   ]
  },
  {
   "cell_type": "code",
   "execution_count": 2,
   "metadata": {},
   "outputs": [],
   "source": [
    "folder = 'D:\\\\Yolo\\\\facerec\\\\dataset\\\\'"
   ]
  },
  {
   "cell_type": "code",
   "execution_count": 7,
   "metadata": {},
   "outputs": [],
   "source": [
    "def click_images(name):\n",
    "    \n",
    "    face_detect = cv2.CascadeClassifier('../facerec/haarcascade_frontalface_default.xml')\n",
    "    img_folder = os.path.join(folder,name)\n",
    "    \n",
    "    if not os.path.exists(img_folder):\n",
    "        os.mkdir(img_folder)\n",
    "        os.chdir(img_folder)\n",
    "    else:\n",
    "        print('Folder exists...')\n",
    "        os.chdir(img_folder)\n",
    "        \n",
    "    st = 3\n",
    "    while st>=1:\n",
    "        print('Taking picture in...',st)\n",
    "        st -= 1\n",
    "        tm.sleep(1)\n",
    "    \n",
    "    cam = cv2.VideoCapture(0)\n",
    "    pic = 0\n",
    "    try:\n",
    "        while pic<50:\n",
    "            pic += 1\n",
    "            _,img = cam.read()\n",
    "            img = cv2.cvtColor(img,cv2.COLOR_BGR2GRAY)\n",
    "            face = face_detect.detectMultiScale(img,scaleFactor=1.1,minNeighbors=7,minSize=(40,40))\n",
    "            for (x,y,w,h) in face:\n",
    "                img = img[y:y+h,x:x+w]\n",
    "            img = cv2.resize(img,(50,50))\n",
    "            cv2.imwrite(os.path.join(img_folder,f'{pic}.jpg'),img)\n",
    "            print(pic,':clicked!')\n",
    "    except Exception as e:\n",
    "        print(\"Error occured:\",e)\n",
    "        cam.release()\n",
    "        exit(0)\n",
    "    \n",
    "    cam.release()"
   ]
  },
  {
   "cell_type": "code",
   "execution_count": 8,
   "metadata": {},
   "outputs": [],
   "source": [
    "def getData():\n",
    "    data = image_dataset_from_directory(folder)\n",
    "    return data"
   ]
  },
  {
   "cell_type": "code",
   "execution_count": 9,
   "metadata": {},
   "outputs": [
    {
     "name": "stdout",
     "output_type": "stream",
     "text": [
      "Taking picture in... 3\n",
      "Taking picture in... 2\n",
      "Taking picture in... 1\n",
      "1 :clicked!\n",
      "2 :clicked!\n",
      "3 :clicked!\n",
      "4 :clicked!\n",
      "5 :clicked!\n",
      "6 :clicked!\n",
      "7 :clicked!\n",
      "8 :clicked!\n",
      "9 :clicked!\n",
      "10 :clicked!\n",
      "11 :clicked!\n",
      "12 :clicked!\n",
      "13 :clicked!\n",
      "14 :clicked!\n",
      "15 :clicked!\n",
      "16 :clicked!\n",
      "17 :clicked!\n",
      "18 :clicked!\n",
      "19 :clicked!\n",
      "20 :clicked!\n",
      "21 :clicked!\n",
      "22 :clicked!\n",
      "23 :clicked!\n",
      "24 :clicked!\n",
      "25 :clicked!\n",
      "26 :clicked!\n",
      "27 :clicked!\n",
      "28 :clicked!\n",
      "29 :clicked!\n",
      "30 :clicked!\n",
      "31 :clicked!\n",
      "32 :clicked!\n",
      "33 :clicked!\n",
      "34 :clicked!\n",
      "35 :clicked!\n",
      "36 :clicked!\n",
      "37 :clicked!\n",
      "38 :clicked!\n",
      "39 :clicked!\n",
      "40 :clicked!\n",
      "41 :clicked!\n",
      "42 :clicked!\n",
      "43 :clicked!\n",
      "44 :clicked!\n",
      "45 :clicked!\n",
      "46 :clicked!\n",
      "47 :clicked!\n",
      "48 :clicked!\n",
      "49 :clicked!\n",
      "50 :clicked!\n"
     ]
    }
   ],
   "source": [
    "name = input('Enter name')\n",
    "click_images(name)"
   ]
  },
  {
   "cell_type": "code",
   "execution_count": 30,
   "metadata": {},
   "outputs": [
    {
     "name": "stdout",
     "output_type": "stream",
     "text": [
      "Found 100 files belonging to 2 classes.\n"
     ]
    },
    {
     "data": {
      "text/plain": [
       "(32, 256, 256, 3)"
      ]
     },
     "execution_count": 30,
     "metadata": {},
     "output_type": "execute_result"
    }
   ],
   "source": [
    "data = getData()\n",
    "# print(len(data))\n",
    "data = data.map(lambda x,y: (x/255,y))\n",
    "data_iter = data.as_numpy_iterator()\n",
    "batch = data_iter.next()"
   ]
  },
  {
   "cell_type": "code",
   "execution_count": 26,
   "metadata": {},
   "outputs": [],
   "source": [
    "train_size = int(len(data)*.5)\n",
    "val_size = int(len(data)*.25)\n",
    "test_size = int(len(data)*.25)"
   ]
  },
  {
   "cell_type": "code",
   "execution_count": 27,
   "metadata": {},
   "outputs": [],
   "source": [
    "train = data.take(train_size)\n",
    "valid = data.skip(train_size).take(val_size)\n",
    "test = data.skip(train_size+val_size).take(test_size)"
   ]
  },
  {
   "cell_type": "code",
   "execution_count": 32,
   "metadata": {},
   "outputs": [
    {
     "name": "stdout",
     "output_type": "stream",
     "text": [
      "Model: \"sequential_3\"\n",
      "_________________________________________________________________\n",
      " Layer (type)                Output Shape              Param #   \n",
      "=================================================================\n",
      " conv2d_9 (Conv2D)           (None, 254, 254, 32)      896       \n",
      "                                                                 \n",
      " max_pooling2d_6 (MaxPooling  (None, 127, 127, 32)     0         \n",
      " 2D)                                                             \n",
      "                                                                 \n",
      " conv2d_10 (Conv2D)          (None, 125, 125, 64)      18496     \n",
      "                                                                 \n",
      " max_pooling2d_7 (MaxPooling  (None, 62, 62, 64)       0         \n",
      " 2D)                                                             \n",
      "                                                                 \n",
      " flatten_3 (Flatten)         (None, 246016)            0         \n",
      "                                                                 \n",
      " dense_6 (Dense)             (None, 128)               31490176  \n",
      "                                                                 \n",
      " dense_7 (Dense)             (None, 1)                 129       \n",
      "                                                                 \n",
      "=================================================================\n",
      "Total params: 31,509,697\n",
      "Trainable params: 31,509,697\n",
      "Non-trainable params: 0\n",
      "_________________________________________________________________\n"
     ]
    }
   ],
   "source": [
    "model = Sequential()\n",
    "model.add(Conv2D(filters=32,kernel_size=(3,3),strides=(1,1),activation='relu',input_shape=(256,256,3)))\n",
    "model.add(MaxPooling2D(pool_size=(2,2)))\n",
    "model.add(Conv2D(filters=64,kernel_size=(3,3),strides=(1,1),activation='relu'))\n",
    "model.add(MaxPooling2D(pool_size=(2,2)))\n",
    "model.add(Flatten())\n",
    "model.add(Dense(units=128,activation='relu'))\n",
    "model.add(Dense(units=1,activation='sigmoid'))\n",
    "model.summary()\n",
    "model.compile(optimizer='adam',loss='binary_crossentropy',metrics=['accuracy'])"
   ]
  },
  {
   "cell_type": "code",
   "execution_count": 33,
   "metadata": {},
   "outputs": [
    {
     "name": "stdout",
     "output_type": "stream",
     "text": [
      "Epoch 1/10\n",
      "2/2 [==============================] - 44s 22s/step - loss: 1.9735 - accuracy: 0.5000 - val_loss: 0.8161 - val_accuracy: 0.5312\n",
      "Epoch 2/10\n",
      "2/2 [==============================] - 35s 24s/step - loss: 0.8073 - accuracy: 0.4688 - val_loss: 0.6644 - val_accuracy: 0.5000\n",
      "Epoch 3/10\n",
      "2/2 [==============================] - 24s 9s/step - loss: 0.6595 - accuracy: 0.5312 - val_loss: 0.5456 - val_accuracy: 1.0000\n",
      "Epoch 4/10\n",
      "2/2 [==============================] - 12s 7s/step - loss: 0.5368 - accuracy: 0.8281 - val_loss: 0.4859 - val_accuracy: 1.0000\n",
      "Epoch 5/10\n",
      "2/2 [==============================] - 13s 7s/step - loss: 0.4617 - accuracy: 0.9375 - val_loss: 0.3472 - val_accuracy: 0.9688\n",
      "Epoch 6/10\n",
      "2/2 [==============================] - 13s 7s/step - loss: 0.3206 - accuracy: 1.0000 - val_loss: 0.2313 - val_accuracy: 1.0000\n",
      "Epoch 7/10\n",
      "2/2 [==============================] - 12s 6s/step - loss: 0.1978 - accuracy: 0.9844 - val_loss: 0.1070 - val_accuracy: 1.0000\n",
      "Epoch 8/10\n",
      "2/2 [==============================] - 12s 7s/step - loss: 0.1100 - accuracy: 1.0000 - val_loss: 0.0755 - val_accuracy: 0.9688\n",
      "Epoch 9/10\n",
      "2/2 [==============================] - 12s 7s/step - loss: 0.0792 - accuracy: 0.9844 - val_loss: 0.0170 - val_accuracy: 1.0000\n",
      "Epoch 10/10\n",
      "2/2 [==============================] - 11s 6s/step - loss: 0.0151 - accuracy: 1.0000 - val_loss: 0.0273 - val_accuracy: 1.0000\n"
     ]
    }
   ],
   "source": [
    "results = model.fit(train,epochs=10,validation_data=valid)"
   ]
  },
  {
   "cell_type": "code",
   "execution_count": 35,
   "metadata": {},
   "outputs": [],
   "source": [
    "precision = Precision()\n",
    "recall = Recall()\n",
    "accuracy = BinaryAccuracy()"
   ]
  },
  {
   "cell_type": "code",
   "execution_count": 36,
   "metadata": {},
   "outputs": [
    {
     "name": "stdout",
     "output_type": "stream",
     "text": [
      "1/1 [==============================] - 1s 1s/step\n",
      "precision:1.0\n",
      "recall:1.0\n",
      "accuracy:1.0\n"
     ]
    }
   ],
   "source": [
    "for i in test:\n",
    "    X,y = i\n",
    "    pred = model.predict(X)\n",
    "    precision.update_state(y,pred)\n",
    "    recall.update_state(y,pred)\n",
    "    accuracy.update_state(y,pred)\n",
    "    \n",
    "print('precision:{}\\nrecall:{}\\naccuracy:{}'.format(precision.result(),recall.result(),accuracy.result()))"
   ]
  },
  {
   "cell_type": "code",
   "execution_count": 68,
   "metadata": {},
   "outputs": [
    {
     "name": "stdout",
     "output_type": "stream",
     "text": [
      "(256, 256, 3)\n"
     ]
    }
   ],
   "source": [
    "test_fol = r'D:\\Yolo\\facerec\\test_imgs'\n",
    "timg = cv2.imread(os.path.join(test_fol,'5.jpg'))\n",
    "timg = tf.image.resize(timg,(256,256))\n",
    "print(timg.shape)"
   ]
  },
  {
   "cell_type": "code",
   "execution_count": 70,
   "metadata": {},
   "outputs": [
    {
     "name": "stdout",
     "output_type": "stream",
     "text": [
      "1/1 [==============================] - 0s 160ms/step\n",
      "[[0.178781]]\n",
      "User found!\n"
     ]
    }
   ],
   "source": [
    "preds = model.predict(np.expand_dims(timg/255,0))\n",
    "print(preds)\n",
    "if preds[0][0]>0.5:\n",
    "    print('User not found...')\n",
    "else:\n",
    "    print('User found!')"
   ]
  }
 ],
 "metadata": {
  "kernelspec": {
   "display_name": "Python 3",
   "language": "python",
   "name": "python3"
  },
  "language_info": {
   "codemirror_mode": {
    "name": "ipython",
    "version": 3
   },
   "file_extension": ".py",
   "mimetype": "text/x-python",
   "name": "python",
   "nbconvert_exporter": "python",
   "pygments_lexer": "ipython3",
   "version": "3.10.1"
  }
 },
 "nbformat": 4,
 "nbformat_minor": 2
}
